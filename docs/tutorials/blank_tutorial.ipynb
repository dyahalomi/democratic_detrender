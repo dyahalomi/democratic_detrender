{
 "cells": [
  {
   "cell_type": "markdown",
   "metadata": {},
   "source": [
    "# Blank tutorial\n",
    "\n",
    "Begin each notebook with a markdown title"
   ]
  },
  {
   "cell_type": "code",
   "execution_count": 1,
   "metadata": {},
   "outputs": [
    {
     "name": "stderr",
     "output_type": "stream",
     "text": [
      "The version of PyMC you are using is very outdated.\n",
      "\n",
      "Please upgrade to the latest version of PyMC https://www.pymc.io/projects/docs/en/stable/installation.html\n",
      "\n",
      "Also notice that PyMC3 has been renamed to PyMC.\n"
     ]
    },
    {
     "name": "stdout",
     "output_type": "stream",
     "text": [
      "working on turning this .py into a function\n",
      "working on turning this .py into a function\n",
      "working on turning this .py into a function\n"
     ]
    },
    {
     "data": {
      "text/plain": [
       "2.0945252679923225"
      ]
     },
     "execution_count": 1,
     "metadata": {},
     "output_type": "execute_result"
    }
   ],
   "source": [
    "# these three (the command line ones) I made global (they just print placeholder for now):\n",
    "import democratic_detrender as dd\n",
    "dd.democratic_detrend() \n",
    "dd.detrend_only()\n",
    "dd.problem_times_only()\n",
    "\n",
    "# everything else can be imported from the modules\n",
    "from democratic_detrender.cofi_AM import DurbinWatson\n",
    "from democratic_detrender.get_lc import tic_id_from_simbad\n",
    "from democratic_detrender.gp import gp_method\n",
    "\n",
    "import numpy as np\n",
    "DurbinWatson(np.random.randn(1000))"
   ]
  },
  {
   "cell_type": "code",
   "execution_count": null,
   "metadata": {},
   "outputs": [],
   "source": []
  }
 ],
 "metadata": {
  "kernelspec": {
   "display_name": "d2",
   "language": "python",
   "name": "python3"
  },
  "language_info": {
   "codemirror_mode": {
    "name": "ipython",
    "version": 3
   },
   "file_extension": ".py",
   "mimetype": "text/x-python",
   "name": "python",
   "nbconvert_exporter": "python",
   "pygments_lexer": "ipython3",
   "version": "3.10.14"
  }
 },
 "nbformat": 4,
 "nbformat_minor": 2
}
