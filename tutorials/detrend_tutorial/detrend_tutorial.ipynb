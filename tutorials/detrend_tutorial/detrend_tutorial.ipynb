{
 "cells": [
  {
   "cell_type": "code",
   "execution_count": 1,
   "id": "9be6de2a",
   "metadata": {},
   "outputs": [],
   "source": [
    "import numpy as np\n",
    "import matplotlib.pyplot as plt\n",
    "import pandas as pd\n",
    "import lightkurve as lk\n",
    "import sys\n",
    "import os\n",
    "import ast"
   ]
  },
  {
   "cell_type": "code",
   "execution_count": 2,
   "id": "e616d148",
   "metadata": {},
   "outputs": [
    {
     "name": "stdout",
     "output_type": "stream",
     "text": [
      "/Users/daniel/Desktop/dd_github/democratic_detrender/democratic_detrender\n"
     ]
    },
    {
     "name": "stderr",
     "output_type": "stream",
     "text": [
      "WARNING (theano.tensor.blas): Using NumPy C-API based implementation for BLAS functions.\n"
     ]
    }
   ],
   "source": [
    "# Add the project root (two levels up from ~/tutorials/detrend_tutorial) to sys.path\n",
    "project_root = os.path.abspath(os.path.join(os.getcwd(), os.pardir, os.pardir))\n",
    "package_root = os.path.abspath(os.path.join(os.getcwd(), os.pardir, os.pardir, 'democratic_detrender'))\n",
    "\n",
    "sys.path.insert(0, project_root)\n",
    "sys.path.insert(0, package_root)\n",
    "print(package_root)\n",
    "\n",
    "from democratic_detrend import democratic_detrend as dd"
   ]
  },
  {
   "cell_type": "code",
   "execution_count": null,
   "id": "b965f26a",
   "metadata": {
    "scrolled": true
   },
   "outputs": [],
   "source": [
    "dd('kepler-1513', 'Kepler', flux_type='pdc', input_user_light_curve=None,\n",
    "  input_CoFiAM=False, input_GP=False, input_local=False)"
   ]
  },
  {
   "cell_type": "code",
   "execution_count": null,
   "id": "ae4cf976",
   "metadata": {},
   "outputs": [],
   "source": []
  },
  {
   "cell_type": "code",
   "execution_count": null,
   "id": "7cef4e62",
   "metadata": {},
   "outputs": [],
   "source": []
  }
 ],
 "metadata": {
  "kernelspec": {
   "display_name": "Python 3 (ipykernel)",
   "language": "python",
   "name": "python3"
  },
  "language_info": {
   "codemirror_mode": {
    "name": "ipython",
    "version": 3
   },
   "file_extension": ".py",
   "mimetype": "text/x-python",
   "name": "python",
   "nbconvert_exporter": "python",
   "pygments_lexer": "ipython3",
   "version": "3.9.7"
  }
 },
 "nbformat": 4,
 "nbformat_minor": 5
}
